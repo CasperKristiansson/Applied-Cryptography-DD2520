{
 "cells": [
  {
   "cell_type": "code",
   "execution_count": 32,
   "metadata": {},
   "outputs": [],
   "source": [
    "from collections import Counter"
   ]
  },
  {
   "cell_type": "code",
   "execution_count": 33,
   "metadata": {},
   "outputs": [],
   "source": [
    "english_letter_freq = {\n",
    "    \"A\": 0.072, \"B\": 0.013, \"C\": 0.024, \"D\": 0.037, \"E\": 0.112, \"F\": 0.020, \"G\": 0.018, \"H\": 0.054, \"I\": 0.061,\n",
    "    \"J\": 0.001, \"K\": 0.007, \"L\": 0.035, \"M\": 0.021, \"N\": 0.059, \"O\": 0.066, \"P\": 0.017, \"Q\": 0.001, \"R\": 0.053,\n",
    "    \"S\": 0.056, \"T\": 0.080, \"U\": 0.024, \"V\": 0.009, \"W\": 0.021, \"X\": 0.001, \"Y\": 0.017, \"Z\": 0.001, \"_\": 0.120,\n",
    "}"
   ]
  },
  {
   "cell_type": "code",
   "execution_count": 34,
   "metadata": {},
   "outputs": [],
   "source": [
    "with open(r'cipher_1.txt') as f:\n",
    "    cipher = f.read()\n",
    "\n",
    "cipher = cipher.replace(\"\\n\", \"\")"
   ]
  },
  {
   "cell_type": "code",
   "execution_count": 36,
   "metadata": {},
   "outputs": [],
   "source": [
    "def create_freq_based_mapping(cipher_text):\n",
    "    cipher_freq = Counter(cipher_text)\n",
    "    cipher_total = sum(cipher_freq.values())\n",
    "    cipher_freq_percent = {char: (count / cipher_total) for char, count in cipher_freq.items()}\n",
    "\n",
    "    return sorted(cipher_freq_percent.items(), key=lambda item: item[1], reverse=True) "
   ]
  },
  {
   "cell_type": "code",
   "execution_count": 37,
   "metadata": {},
   "outputs": [],
   "source": [
    "cipher_freq = create_freq_based_mapping(cipher)"
   ]
  },
  {
   "cell_type": "code",
   "execution_count": null,
   "metadata": {},
   "outputs": [],
   "source": [
    "sorted(english_letter_freq.items(), key=lambda item: item[1], reverse=True)"
   ]
  },
  {
   "cell_type": "code",
   "execution_count": 40,
   "metadata": {},
   "outputs": [],
   "source": [
    "cipher = cipher.replace(\"_\", \" \")"
   ]
  },
  {
   "cell_type": "code",
   "execution_count": 42,
   "metadata": {},
   "outputs": [],
   "source": [
    "cipher_c = cipher"
   ]
  },
  {
   "cell_type": "code",
   "execution_count": 45,
   "metadata": {},
   "outputs": [],
   "source": [
    "cipher = cipher_c"
   ]
  },
  {
   "cell_type": "code",
   "execution_count": 46,
   "metadata": {},
   "outputs": [],
   "source": [
    "cipher = cipher.replace(\"8\", \"I\")"
   ]
  },
  {
   "cell_type": "code",
   "execution_count": 47,
   "metadata": {},
   "outputs": [
    {
     "data": {
      "text/plain": [
       "'I HI CKZQC B90W CIZCI F0 20Z2IKF1Z0O KC YZCOI9I5 OHYF U0I YCQ 0B FHI 9IZIC E9YLIZ #U FHI E05C WY5I #U FHI YTT BYFHI9 CIZF #U FHI 30OI9BIT CYEI TF KC #ICF B09 WYZ F0 9IWYKZ CKTIZF1B09 FHICI FHKZEC EKLI'"
      ]
     },
     "execution_count": 47,
     "metadata": {},
     "output_type": "execute_result"
    }
   ],
   "source": [
    "cipher[:200]"
   ]
  },
  {
   "cell_type": "code",
   "execution_count": null,
   "metadata": {},
   "outputs": [],
   "source": []
  }
 ],
 "metadata": {
  "kernelspec": {
   "display_name": "Python 3",
   "language": "python",
   "name": "python3"
  },
  "language_info": {
   "codemirror_mode": {
    "name": "ipython",
    "version": 3
   },
   "file_extension": ".py",
   "mimetype": "text/x-python",
   "name": "python",
   "nbconvert_exporter": "python",
   "pygments_lexer": "ipython3",
   "version": "3.8.18"
  }
 },
 "nbformat": 4,
 "nbformat_minor": 2
}
